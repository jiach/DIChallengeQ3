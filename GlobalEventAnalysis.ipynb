{
 "cells": [
  {
   "cell_type": "markdown",
   "metadata": {},
   "source": [
    "Price Prediction Based on World Events"
   ]
  },
  {
   "cell_type": "code",
   "execution_count": 3,
   "metadata": {
    "collapsed": true
   },
   "outputs": [],
   "source": [
    "import numpy as np\n",
    "import pandas as pd\n",
    "import scipy as sp"
   ]
  },
  {
   "cell_type": "code",
   "execution_count": 19,
   "metadata": {
    "collapsed": false
   },
   "outputs": [],
   "source": [
    "events_df = pd.read_csv('gdelt/gdelt.2011-2013.tsv.gz', index_col=False, delimiter='\\t', header=0,dtype={'Date': np.str, 'Source': np.str, 'Target': np.str, 'CAMEOCode':np.str,'NumEvents':np.int32,'NumArts':np.int32, 'QuadClass':np.int8,'Goldstein':np.float32,'SourceGeoType':np.str,'SourceGeoLat':np.float32,'SourceGeoLong':np.float32,\"TargetGeoType\":np.str,'TargetGeoLat':np.float32,'TargetGeoLong':np.float32,'ActionGeoType':np.str,'ActionGeoLat':np.float32,'ActionGeoLong':np.float32})"
   ]
  },
  {
   "cell_type": "code",
   "execution_count": 5,
   "metadata": {
    "collapsed": false
   },
   "outputs": [],
   "source": [
    "brent_oil = pd.read_csv('gdelt/brent-oil-futures-2011-2013.tsv',index_col=False,header=0,delimiter='\\t')"
   ]
  },
  {
   "cell_type": "code",
   "execution_count": 4,
   "metadata": {
    "collapsed": false
   },
   "outputs": [
    {
     "name": "stdout",
     "output_type": "stream",
     "text": [
      "Index([u'Date', u'Source', u'Target', u'CAMEOCode', u'NumEvents', u'NumArts',\n",
      "       u'QuadClass', u'Goldstein', u'SourceGeoType', u'SourceGeoLat',\n",
      "       u'SourceGeoLong', u'TargetGeoType', u'TargetGeoLat', u'TargetGeoLong',\n",
      "       u'ActionGeoType', u'ActionGeoLat', u'ActionGeoLong'],\n",
      "      dtype='object')\n",
      "(30654978, 17)\n"
     ]
    }
   ],
   "source": [
    "print events_df.columns\n",
    "print events_df.shape"
   ]
  },
  {
   "cell_type": "code",
   "execution_count": 4,
   "metadata": {
    "collapsed": false
   },
   "outputs": [
    {
     "name": "stdout",
     "output_type": "stream",
     "text": [
      "count     30654978\n",
      "unique       16114\n",
      "top            USA\n",
      "freq       2270075\n",
      "Name: Source, dtype: object\n",
      "count     30654978\n",
      "unique       25001\n",
      "top            USA\n",
      "freq       1735663\n",
      "Name: Target, dtype: object\n"
     ]
    }
   ],
   "source": [
    "print events_df.Source.describe()\n",
    "print events_df.Target.describe()"
   ]
  },
  {
   "cell_type": "code",
   "execution_count": 5,
   "metadata": {
    "collapsed": false
   },
   "outputs": [
    {
     "name": "stdout",
     "output_type": "stream",
     "text": [
      "count     30654978\n",
      "unique         260\n",
      "top            010\n",
      "freq       2186740\n",
      "Name: CAMEOCode, dtype: object\n",
      "count    3.065498e+07\n",
      "mean     2.152726e+00\n",
      "std      3.963667e+00\n",
      "min      1.000000e+00\n",
      "25%      1.000000e+00\n",
      "50%      1.000000e+00\n",
      "75%      2.000000e+00\n",
      "max      8.630000e+02\n",
      "Name: NumEvents, dtype: float64\n",
      "count    3.065498e+07\n",
      "mean     1.860256e+01\n",
      "std      1.267037e+02\n",
      "min      1.000000e+00\n",
      "25%      4.000000e+00\n",
      "50%      7.000000e+00\n",
      "75%      1.200000e+01\n",
      "max      1.108900e+05\n",
      "Name: NumArts, dtype: float64\n",
      "count    3.065498e+07\n",
      "mean     1.840537e+00\n",
      "std      1.140414e+00\n",
      "min      1.000000e+00\n",
      "25%      1.000000e+00\n",
      "50%      1.000000e+00\n",
      "75%      3.000000e+00\n",
      "max      4.000000e+00\n",
      "Name: QuadClass, dtype: float64\n"
     ]
    }
   ],
   "source": [
    "print events_df.CAMEOCode.describe()\n",
    "print events_df.NumEvents.describe()\n",
    "print events_df.NumArts.describe()\n",
    "print events_df.QuadClass.describe()"
   ]
  },
  {
   "cell_type": "code",
   "execution_count": 9,
   "metadata": {
    "collapsed": false
   },
   "outputs": [
    {
     "name": "stdout",
     "output_type": "stream",
     "text": [
      "count     29272709\n",
      "unique           5\n",
      "top              4\n",
      "freq      13933944\n",
      "Name: SourceGeoType, dtype: object\n",
      "count     29386681\n",
      "unique           5\n",
      "top              4\n",
      "freq      14406017\n",
      "Name: TargetGeoType, dtype: object\n",
      "count     30079703\n",
      "unique           5\n",
      "top              4\n",
      "freq      14797608\n",
      "Name: ActionGeoType, dtype: object\n"
     ]
    }
   ],
   "source": [
    "print events_df.SourceGeoType.describe()\n",
    "print events_df.TargetGeoType.describe()\n",
    "print events_df.ActionGeoType.describe()"
   ]
  },
  {
   "cell_type": "code",
   "execution_count": 39,
   "metadata": {
    "collapsed": false
   },
   "outputs": [],
   "source": [
    "import matplotlib.pyplot as plt\n",
    "\n",
    "def BarPlotWrapper(values, tick_labels, ylab):\n",
    "    ind = np.arange(values.size)\n",
    "    width = 1.0\n",
    "    plt.bar(ind,values,width=width)\n",
    "    plt.xticks(ind+width/2,tick_labels, rotation='vertical')\n",
    "    plt.ylabel(ylab)\n",
    "    plt.show()\n",
    "\n",
    "#source_freq = events_df.Source.value_counts().head(50)\n",
    "#BarPlotWrapper(source_freq, source_freq.index.values)"
   ]
  },
  {
   "cell_type": "code",
   "execution_count": 39,
   "metadata": {
    "collapsed": false
   },
   "outputs": [
    {
     "ename": "AttributeError",
     "evalue": "'NoneType' object has no attribute 'CAMEOCode'",
     "output_type": "error",
     "traceback": [
      "\u001b[0;31m---------------------------------------------------------------------------\u001b[0m",
      "\u001b[0;31mAttributeError\u001b[0m                            Traceback (most recent call last)",
      "\u001b[0;32m<ipython-input-39-23bc8a1a17a0>\u001b[0m in \u001b[0;36m<module>\u001b[0;34m()\u001b[0m\n\u001b[1;32m      8\u001b[0m     \u001b[0mplt\u001b[0m\u001b[0;34m.\u001b[0m\u001b[0mshow\u001b[0m\u001b[0;34m(\u001b[0m\u001b[0;34m)\u001b[0m\u001b[0;34m\u001b[0m\u001b[0m\n\u001b[1;32m      9\u001b[0m \u001b[0;34m\u001b[0m\u001b[0m\n\u001b[0;32m---> 10\u001b[0;31m \u001b[0msource_freq\u001b[0m \u001b[0;34m=\u001b[0m \u001b[0mevents_df\u001b[0m\u001b[0;34m.\u001b[0m\u001b[0mCAMEOCode\u001b[0m\u001b[0;34m.\u001b[0m\u001b[0mvalue_counts\u001b[0m\u001b[0;34m(\u001b[0m\u001b[0;34m)\u001b[0m\u001b[0;34m.\u001b[0m\u001b[0mhead\u001b[0m\u001b[0;34m(\u001b[0m\u001b[0;36m50\u001b[0m\u001b[0;34m)\u001b[0m\u001b[0;34m\u001b[0m\u001b[0m\n\u001b[0m\u001b[1;32m     11\u001b[0m \u001b[0mBarPlotWrapper\u001b[0m\u001b[0;34m(\u001b[0m\u001b[0msource_freq\u001b[0m\u001b[0;34m,\u001b[0m \u001b[0msource_freq\u001b[0m\u001b[0;34m.\u001b[0m\u001b[0mindex\u001b[0m\u001b[0;34m.\u001b[0m\u001b[0mvalues\u001b[0m\u001b[0;34m)\u001b[0m\u001b[0;34m\u001b[0m\u001b[0m\n",
      "\u001b[0;31mAttributeError\u001b[0m: 'NoneType' object has no attribute 'CAMEOCode'"
     ]
    }
   ],
   "source": [
    "import matplotlib.pyplot as plt\n",
    "\n",
    "def BarPlotWrapper(values, tick_labels):\n",
    "    ind = np.arange(values.size)\n",
    "    width = 1.0\n",
    "    plt.bar(ind,values,width=width)\n",
    "    plt.xticks(ind+width/2,tick_labels, rotation='vertical')\n",
    "    plt.show()\n",
    "\n",
    "source_freq = events_df.CAMEOCode.value_counts().head(50)\n",
    "BarPlotWrapper(source_freq, source_freq.index.values)"
   ]
  },
  {
   "cell_type": "code",
   "execution_count": 36,
   "metadata": {
    "collapsed": false
   },
   "outputs": [],
   "source": [
    "events_df['Date_dt']=pd.to_datetime(events_df.Date.astype(np.str),format='%Y%m%d')"
   ]
  },
  {
   "cell_type": "code",
   "execution_count": 7,
   "metadata": {
    "collapsed": false
   },
   "outputs": [],
   "source": [
    "brent_oil['Date_dt']=pd.to_datetime(brent_oil.Date.astype(np.str),format='%b %d, %Y')"
   ]
  },
  {
   "cell_type": "code",
   "execution_count": 8,
   "metadata": {
    "collapsed": false
   },
   "outputs": [],
   "source": [
    "brent_oil['isIncrease']=1-brent_oil.Change.str.startswith('-').astype(np.int8)"
   ]
  },
  {
   "cell_type": "code",
   "execution_count": 14,
   "metadata": {
    "collapsed": false
   },
   "outputs": [],
   "source": [
    "from scipy import sparse\n",
    "\n",
    "def sparse_df_to_sparse_matrix (sparse_df):\n",
    "    index_list = sparse_df.index.values.tolist()\n",
    "    matrix_columns = []\n",
    "    sparse_matrix = None\n",
    "\n",
    "    for column in sparse_df.columns:\n",
    "        sps_series = sparse_df[column]\n",
    "        sps_series.index = pd.MultiIndex.from_product([index_list, [column]])\n",
    "        curr_sps_column, rows, cols = sps_series.to_coo()\n",
    "        if sparse_matrix != None:\n",
    "            sparse_matrix = sparse.hstack([sparse_matrix, curr_sps_column])\n",
    "        else:\n",
    "            sparse_matrix = curr_sps_column\n",
    "        matrix_columns.extend(cols)\n",
    "\n",
    "    return sparse_matrix, index_list, matrix_columns\n",
    "\n",
    "def save_sparse_csr(filename,array):\n",
    "    np.savez(filename,data = array.data ,indices=array.indices,\n",
    "             indptr =array.indptr, shape=array.shape )\n",
    "\n",
    "def load_sparse_csr(filename):\n",
    "    loader = np.load(filename)\n",
    "    return csr_matrix((  loader['data'], loader['indices'], loader['indptr']),\n",
    "                         shape = loader['shape'])\n",
    "\n",
    "cameo_code_dummy = pd.get_dummies(events_df['CAMEOCode'])\n",
    "#sm, il, mc = sparse_df_to_sparse_matrix(cameo_code_dummy)\n",
    "#cameo_code_dummy.to_csv('cameo_code_dummy.csv.gz',compression='gzip')\n"
   ]
  },
  {
   "cell_type": "code",
   "execution_count": null,
   "metadata": {
    "collapsed": true
   },
   "outputs": [],
   "source": []
  },
  {
   "cell_type": "code",
   "execution_count": null,
   "metadata": {
    "collapsed": true
   },
   "outputs": [],
   "source": [
    "sm_cameo_dummy = csr_matrix((sm,il,mc),shape=cameo_code_dummy.shape)\n",
    "save_sparse_csr('sm_cameo_dummy.mat',sm_cameo_dummy)"
   ]
  },
  {
   "cell_type": "code",
   "execution_count": 15,
   "metadata": {
    "collapsed": false
   },
   "outputs": [],
   "source": [
    "import time\n",
    "def GetDays(x):\n",
    "    return x.days\n",
    "def GetBrentChangeLookup(date_str):\n",
    "    date = pd.to_datetime(date_str,format='%Y%m%d')\n",
    "    pos_idx = (brent_oil['Date_dt']-date).apply(GetDays)>0\n",
    "    return brent_oil['isIncrease'][brent_oil['Date_dt'][pos_idx].argmin()]\n",
    "def BrentChangeLookup(date):\n",
    "    return look_up_table[date]\n",
    "\n",
    "look_up_table = dict(zip(events_df['Date'].unique(),pd.Series(events_df['Date'].unique()).apply(GetBrentChangeLookup)))\n",
    "BrentIncrease = events_df['Date'].apply(BrentChangeLookup)\n",
    "#BrentIncrease.to_csv('brent_increase.csv')"
   ]
  },
  {
   "cell_type": "code",
   "execution_count": 16,
   "metadata": {
    "collapsed": false
   },
   "outputs": [],
   "source": [
    "events_df = None\n",
    "from scipy.stats import chi2_contingency\n",
    "import time\n",
    "def GetChi2ContingencyP(x,y):\n",
    "    return chi2_contingency([[np.sum((1-x)*(1-y)),np.sum((1-x)*y)],[np.sum(x*(1-y)),np.sum(x*y)]])[1]\n",
    "p_vals = []\n",
    "for column in cameo_code_dummy:\n",
    "    p_vals.append(GetChi2ContingencyP(cameo_code_dummy[column],BrentIncrease))"
   ]
  },
  {
   "cell_type": "code",
   "execution_count": 17,
   "metadata": {
    "collapsed": true
   },
   "outputs": [],
   "source": [
    "event_lookup_table = {'01':'MAKE PUBLIC STATEMENT',\n",
    "'010':'Make statement, not specified below',\n",
    "'011':'Decline comment',\n",
    "'012':'Make pessimistic comment',\n",
    "'013':'Make optimistic comment',\n",
    "'014':'Consider policy option',\n",
    "'015':'Acknowledge or claim responsibility',\n",
    "'016':'Deny responsibility',\n",
    "'017':'Engage in symbolic act',\n",
    "'018':'Make empathetic comment',\n",
    "'019':'Express accord',\n",
    "'02':'APPEAL',\n",
    "'020':'Make an appeal or request, not specified below',\n",
    "'021':'Appeal for material cooperation, not specified below',\n",
    "'0211':'Appeal for economic cooperation',\n",
    "'0212':'Appeal for military cooperation',\n",
    "'0213':'Appeal for judicial cooperation',\n",
    "'0214':'Appeal for intelligence',\n",
    "'022':'Appeal for diplomatic cooperation (such as policy support)',\n",
    "'023':'Appeal for aid, not specified below',\n",
    "'0231':'Appeal for economic aid',\n",
    "'0232':'Appeal for military aid',\n",
    "'0233':'Appeal for humanitarian aid',\n",
    "'0234':'Appeal for military protection or peacekeeping',\n",
    "'024':'Appeal for political reform, not specified below',\n",
    "'0241':'Appeal for change in leadership',\n",
    "'0242':'Appeal for policy change',\n",
    "'0243':'Appeal for rights',\n",
    "'0244':'Appeal for change in institutions, regime',\n",
    "'025':'Appeal to yield, not specified below',\n",
    "'0251':'Appeal for easing of administrative sanctions',\n",
    "'0252':'Appeal for easing of political dissent',\n",
    "'0253':'Appeal for release of persons or property',\n",
    "'0254':'Appeal for easing of economic sanctions, boycott, or embargo',\n",
    "'0255':'Appeal for target to allow international involvement (non-mediation)',\n",
    "'0256':'Appeal for de-escalation of military engagement',\n",
    "'026':'Appeal to others to meet or negotiate',\n",
    "'027':'Appeal to others to settle dispute',\n",
    "'028':'Appeal to engage in or accept mediation',\n",
    "'03':'EXPRESS INTENT TO COOPERATE',\n",
    "'030':'Express intent to cooperate, not specified below',\n",
    "'031':'Express intent to engage in material cooperation, not specified below',\n",
    "'0311':'Express intent to cooperate economically',\n",
    "'0312':'Express intent to cooperate militarily',\n",
    "'0313':'Express intent to cooperate on judicial matters',\n",
    "'0314':'Express intent to cooperate on intelligence',\n",
    "'032':'Express intent to engage in diplomatic cooperation (such as policy support)',\n",
    "'033':'Express intent to provide material aid, not specified below',\n",
    "'0331':'Express intent to provide economic aid',\n",
    "'0332':'Express intent to provide military aid',\n",
    "'0333':'Express intent to provide humanitarian aid',\n",
    "'0334':'Express intent to provide military protection or peacekeeping',\n",
    "'034':'Express intent to institute political reform, not specified below',\n",
    "'0341':'Express intent to change leadership',\n",
    "'0342':'Express intent to change policy',\n",
    "'0343':'Express intent to provide rights',\n",
    "'0344':'Express intent to change institutions, regime',\n",
    "'035':'Express intent to yield, not specified below',\n",
    "'0351':'Express intent to ease administrative sanctions',\n",
    "'0352':'Express intent to ease popular dissent',\n",
    "'0353':'Express intent to release persons or property',\n",
    "'0354':'Express intent to ease economic sanctions, boycott, or embargo',\n",
    "'0355':'Express intent to allow international involvement (non-mediation)',\n",
    "'0356':'Express intent to de-escalate military engagement',\n",
    "'036':'Express intent to meet or negotiate',\n",
    "'037':'Express intent to settle dispute',\n",
    "'038':'Express intent to accept mediation',\n",
    "'039':'Express intent to mediate',\n",
    "'04':'CONSULT',\n",
    "'040':'Consult, not specified below',\n",
    "'041':'Discuss by telephone',\n",
    "'042':'Make a visit',\n",
    "'043':'Host a visit',\n",
    "'044':'Meet at a ”third” location',\n",
    "'045':'Mediate',\n",
    "'046':'Engage in negotiation',\n",
    "'05':'ENGAGE IN DIPLOMATIC COOPERATION',\n",
    "'050':'Engage in diplomatic cooperation, not specified below',\n",
    "'051':'Praise or endorse',\n",
    "'052':'Defend verbally',\n",
    "'053':'Rally support on behalf of',\n",
    "'054':'Grant diplomatic recognition',\n",
    "'055':'Apologize',\n",
    "'056':'Forgive',\n",
    "'057':'Sign formal agreement',\n",
    "'06':'ENGAGE IN MATERIAL COOPERATION',\n",
    "'060':'Engage in material cooperation, not specified below',\n",
    "'061':'Cooperate economically',\n",
    "'062':'Cooperate militarily',\n",
    "'063':'Engage in judicial cooperation',\n",
    "'064':'Share intelligence or information',\n",
    "'07':'PROVIDE AID',\n",
    "'070':'Provide aid, not specified below',\n",
    "'071':'Provide economic aid',\n",
    "'072':'Provide military aid',\n",
    "'073':'Provide humanitarian aid',\n",
    "'074':'Provide military protection or peacekeeping',\n",
    "'075':'Grant asylum',\n",
    "'08':'YIELD',\n",
    "'080':'Yield, not specified below',\n",
    "'081':'Ease administrative sanctions, not specified below',\n",
    "'0811':'Ease restrictions on political freedoms',\n",
    "'0812':'Ease ban on political parties or politicians',\n",
    "'0813':'Ease curfew',\n",
    "'0814':'Ease state of emergency or martial law',\n",
    "'082':'Ease political dissent',\n",
    "'083':'Accede to requests or demands for political reform, not specified below',\n",
    "'0831':'Accede to demands for change in leadership',\n",
    "'0832':'Accede to demands for change in policy',\n",
    "'0833':'Accede to demands for rights',\n",
    "'0834':'Accede to demands for change in institutions, regime',\n",
    "'084':'Return, release, not specified below',\n",
    "'0841':'Return, release person(s)',\n",
    "'0842':'Return, release property',\n",
    "'085':'Ease economic sanctions, boycott, embargo',\n",
    "'086':'Allow international involvement, not specified below',\n",
    "'0861':'Receive deployment of peacekeepers',\n",
    "'0862':'Receive inspectors',\n",
    "'0863':'Allow humanitarian access',\n",
    "'087':'De-escalate military engagement',\n",
    "'0871':'Declare truce, ceasefire',\n",
    "'0872':'Ease military blockade',\n",
    "'0873':'Demobilize armed forces',\n",
    "'0874':'Retreat or surrender militarily',\n",
    "'09':'INVESTIGATE',\n",
    "'090':'Investigate, not specified below',\n",
    "'091':'Investigate crime, corruption',\n",
    "'092':'Investigate human rights abuses',\n",
    "'093':'Investigate military action',\n",
    "'094':'Investigate war crimes',\n",
    "'10':'DEMAND',\n",
    "'100':'Demand, not specified below',\n",
    "'101':'Demand material cooperation, not specified below',\n",
    "'1011':'Demand economic cooperation',\n",
    "'1012':'Demand military cooperation',\n",
    "'1013':'Demand judicial cooperation',\n",
    "'1014':'Demand intelligence cooperation',\n",
    "'102':'Demand diplomatic cooperation (such as policy support)',\n",
    "'103':'Demand material aid, not specified below',\n",
    "'1031':'Demand economic aid',\n",
    "'1032':'Demand military aid',\n",
    "'1033':'Demand humanitarian aid',\n",
    "'1034':'Demand military protection or peacekeeping',\n",
    "'104':'Demand political reform, not specified below',\n",
    "'1041':'Demand change in leadership',\n",
    "'1042':'Demand policy change',\n",
    "'1043':'Demand rights',\n",
    "'1044':'Demand change in institutions, regime',\n",
    "'105':'Demand that target yields, not specified below',\n",
    "'1051':'Demand easing of administrative sanctions',\n",
    "'1052':'Demand easing of political dissent',\n",
    "'1053':'Demand release of persons or property',\n",
    "'1054':'Demand easing of economic sanctions, boycott, or embargo',\n",
    "'1055':'Demand that target allows international involvement (non-mediation)',\n",
    "'1056':'Demand de-escalation of military engagement',\n",
    "'106':'Demand meeting, negotiation',\n",
    "'107':'Demand settling of dispute',\n",
    "'108':'Demand mediation',\n",
    "'11':'DISAPPROVE',\n",
    "'110':'Disapprove, not specified below',\n",
    "'111':'Criticize or denounce',\n",
    "'112':'Accuse, not specified below',\n",
    "'1121':'Accuse of crime, corruption',\n",
    "'1122':'Accuse of human rights abuses',\n",
    "'1123':'Accuse of aggression',\n",
    "'1124':'Accuse of war crimes',\n",
    "'1125':'Accuse of espionage, treason',\n",
    "'113':'Rally opposition against',\n",
    "'114':'Complain officially',\n",
    "'115':'Bring lawsuit against',\n",
    "'116':'Find guilty or liable (legally)',\n",
    "'12':'REJECT',\n",
    "'120':'Reject, not specified below',\n",
    "'121':'Reject material cooperation',\n",
    "'1211':'Reject economic cooperation',\n",
    "'1212':'Reject military cooperation',\n",
    "'122':'Reject request or demand for material aid, not specified below',\n",
    "'1221':'Reject request for economic aid',\n",
    "'1222':'Reject request for military aid',\n",
    "'1223':'Reject request for humanitarian aid',\n",
    "'1224':'Reject request for military protection or peacekeeping',\n",
    "'123':'Reject request or demand for political reform, not specified below',\n",
    "'1231':'Reject request for change in leadership',\n",
    "'1232':'Reject request for policy change',\n",
    "'1233':'Reject request for rights',\n",
    "'1234':'Reject request for change in institutions, regime',\n",
    "'124':'Refuse to yield, not specified below',\n",
    "'1241':'Refuse to ease administrative sanctions',\n",
    "'1242':'Refuse to ease popular dissent',\n",
    "'1243':'Refuse to release persons or property',\n",
    "'1244':'Refuse to ease economic sanctions, boycott, or embargo',\n",
    "'1245':'Refuse to allow international involvement (non mediation)',\n",
    "'1246':'Refuse to de-escalate military engagement',\n",
    "'125':'Reject proposal to meet, discuss, or negotiate',\n",
    "'126':'Reject mediation',\n",
    "'127':'Reject plan, agreement to settle dispute',\n",
    "'128':'Defy norms, law',\n",
    "'129':'Veto',\n",
    "'13':'THREATEN',\n",
    "'130':'Threaten, not specified below',\n",
    "'131':'Threaten non-force, not specified below',\n",
    "'1311':'Threaten to reduce or stop aid',\n",
    "'1312':'Threaten with sanctions, boycott, embargo',\n",
    "'1313':'Threaten to reduce or break relations',\n",
    "'132':'Threaten with administrative sanctions, not specified below',\n",
    "'1321':'Threaten with restrictions on political freedoms',\n",
    "'1322':'Threaten to ban political parties or politicians',\n",
    "'1323':'Threaten to impose curfew',\n",
    "'1324':'Threaten to impose state of emergency or martial law',\n",
    "'133':'Threaten with political dissent, protest',\n",
    "'134':'Threaten to halt negotiations',\n",
    "'135':'Threaten to halt mediation',\n",
    "'136':'Threaten to halt international involvement (non-mediation)',\n",
    "'137':'Threaten with repression',\n",
    "'138':'Threaten with military force, not specified below',\n",
    "'1381':'Threaten blockade',\n",
    "'1382':'Threaten occupation',\n",
    "'1383':'Threaten unconventional violence',\n",
    "'1384':'Threaten conventional attack',\n",
    "'1385':'Threaten attack with WMD',\n",
    "'139':'Give ultimatum',\n",
    "'14':'PROTEST',\n",
    "'140':'Engage in political dissent, not specified below',\n",
    "'141':'Demonstrate or rally, not specified below',\n",
    "'1411':'Demonstrate for leadership change',\n",
    "'1412':'Demonstrate for policy change',\n",
    "'1413':'Demonstrate for rights',\n",
    "'1414':'Demonstrate for change in institutions, regime',\n",
    "'142':'Conduct hunger strike, not specified below',\n",
    "'1421':'Conduct hunger strike for leadership change',\n",
    "'1422':'Conduct hunger strike for policy change',\n",
    "'1423':'Conduct hunger strike for rights',\n",
    "'1424':'Conduct hunger strike for change in institutions, regime',\n",
    "'143':'Conduct strike or boycott, not specified below',\n",
    "'1431':'Conduct strike or boycott for leadership change',\n",
    "'1432':'Conduct strike or boycott for policy change',\n",
    "'1433':'Conduct strike or boycott for rights',\n",
    "'1434':'Conduct strike or boycott for change in institutions, regime',\n",
    "'144':'Obstruct passage, block, not specified below',\n",
    "'1441':'Obstruct passage to demand leadership change',\n",
    "'1442':'Obstruct passage to demand policy change',\n",
    "'1443':'Obstruct passage to demand rights',\n",
    "'1444':'Obstruct passage to demand change in institutions, regime',\n",
    "'145':'Protest violently, riot, not specified below',\n",
    "'1451':'Engage in violent protest for leadership change',\n",
    "'1452':'Engage in violent protest for policy change',\n",
    "'1453':'Engage in violent protest for rights',\n",
    "'1454':'Engage in violent protest for change in institutions, regime',\n",
    "'15':'EXHIBIT FORCE POSTURE',\n",
    "'150':'Demonstrate military or police power, not specified below',\n",
    "'151':'Increase police alert status',\n",
    "'152':'Increase military alert status',\n",
    "'153':'Mobilize or increase police power',\n",
    "'154':'Mobilize or increase armed forces',\n",
    "'155':'Mobilize or increase cyber-forces',\n",
    "'16':'REDUCE RELATIONS',\n",
    "'160':'Reduce relations, not specified below',\n",
    "'161':'Reduce or break diplomatic relations',\n",
    "'162':'Reduce or stop material aid, not specified below',\n",
    "'1621':'Reduce or stop economic assistance',\n",
    "'1622':'Reduce or stop military assistance',\n",
    "'1623':'Reduce or stop humanitarian assistance',\n",
    "'163':'Impose embargo, boycott, or sanctions',\n",
    "'164':'Halt negotiations',\n",
    "'165':'Halt mediation',\n",
    "'166':'Expel or withdraw, not specified below',\n",
    "'1661':'Expel or withdraw peacekeepers',\n",
    "'1662':'Expel or withdraw inspectors, observers',\n",
    "'1663':'Expel or withdraw aid agencies',\n",
    "'17':'COERCE',\n",
    "'170':'Coerce, not specified below',\n",
    "'171':'Seize or damage property, not specified below',\n",
    "'1711':'Confiscate property',\n",
    "'1712':'Destroy property',\n",
    "'172':'Impose administrative sanctions, not specified below',\n",
    "'1721':'Impose restrictions on political freedoms',\n",
    "'1722':'Ban political parties or politicians',\n",
    "'1723':'Impose curfew',\n",
    "'1724':'Impose state of emergency or martial law',\n",
    "'173':'Arrest, detain, or charge with legal action',\n",
    "'174':'Expel or deport individuals',\n",
    "'175':'Use tactics of violent repression',\n",
    "'176':'Attack cybernetically',\n",
    "'18':'ASSAULT',\n",
    "'180':'Use unconventional violence, not specified below',\n",
    "'181':'Abduct, hijack, or take hostage',\n",
    "'182':'Physically assault, not specified below',\n",
    "'1821':'Sexually assault',\n",
    "'1822':'Torture',\n",
    "'1823':'Kill by physical assault',\n",
    "'183':'Conduct suicide, car, or other non-military bombing, not specified below',\n",
    "'1831':'Carry out suicide bombing',\n",
    "'1832':'Carry out vehicular bombing',\n",
    "'1833':'Carry out roadside bombing',\n",
    "'1834':'Carry out location bombing',\n",
    "'184':'Use as human shield',\n",
    "'185':'Attempt to assassinate',\n",
    "'186':'Assassinate',\n",
    "'19':'FIGHT',\n",
    "'190':'Use conventional military force, not specified below',\n",
    "'191':'Impose blockade, restrict movement',\n",
    "'192':'Occupy territory',\n",
    "'193':'Fight with small arms and light weapons',\n",
    "'194':'Fight with artillery and tanks',\n",
    "'195':'Employ aerial weapons, not specified below',\n",
    "'1951':'Employ precision-guided aerial munitions',\n",
    "'1952':'Employ remotely piloted aerial munitions',\n",
    "'196':'Violate ceasefire',\n",
    "'20':'USE UNCONVENTIONAL MASS VIOLENCE',\n",
    "'200':'Use unconventional mass violence, not specified below',\n",
    "'201':'Engage in mass expulsion',\n",
    "'202':'Engage in mass killings',\n",
    "'203':'Engage in ethnic cleansing',\n",
    "'204':'Use weapons of mass destruction, not specified below',\n",
    "'2041':'Use chemical, biological, or radiological weapons',\n",
    "'2042':'Detonate nuclear weapons',\n",
    "'---':'None'}"
   ]
  },
  {
   "cell_type": "code",
   "execution_count": 40,
   "metadata": {
    "collapsed": false,
    "scrolled": true
   },
   "outputs": [
    {
     "data": {
      "image/png": "[encoded data removed]",
      "text/plain": [
       "<matplotlib.figure.Figure at 0x7fa65e6e7c50>"
      ]
     },
     "metadata": {},
     "output_type": "display_data"
    }
   ],
   "source": [
    "import matplotlib.pyplot as plt\n",
    "import statsmodels.stats\n",
    "def LookUpEventCode(x):\n",
    "    if x in event_lookup_table:\n",
    "        return event_lookup_table[x]\n",
    "    else:\n",
    "        return 'None'\n",
    "p_val_df = pd.DataFrame({'pval': p_vals, 'labels': pd.Series(cameo_code_dummy.columns.values).apply(LookUpEventCode)})\n",
    "p_val_sorted = p_val_df.sort_values(by='pval').head(20)\n",
    "\n",
    "BarPlotWrapper(-np.log10(p_val_sorted['pval']),p_val_sorted['labels'],'log10[p-value]')"
   ]
  },
  {
   "cell_type": "code",
   "execution_count": 59,
   "metadata": {
    "collapsed": false,
    "scrolled": false
   },
   "outputs": [
    {
     "ename": "MemoryError",
     "evalue": "",
     "output_type": "error",
     "traceback": [
      "\u001b[0;31m---------------------------------------------------------------------------\u001b[0m",
      "\u001b[0;31mMemoryError\u001b[0m                               Traceback (most recent call last)",
      "\u001b[0;32m<ipython-input-59-26701fd35b84>\u001b[0m in \u001b[0;36m<module>\u001b[0;34m()\u001b[0m\n\u001b[1;32m      1\u001b[0m \u001b[0;32mfrom\u001b[0m \u001b[0msklearn\u001b[0m\u001b[0;34m.\u001b[0m\u001b[0mensemble\u001b[0m \u001b[0;32mimport\u001b[0m \u001b[0mRandomForestClassifier\u001b[0m\u001b[0;34m\u001b[0m\u001b[0m\n\u001b[1;32m      2\u001b[0m \u001b[0mrfcl\u001b[0m \u001b[0;34m=\u001b[0m \u001b[0mRandomForestClassifier\u001b[0m\u001b[0;34m(\u001b[0m\u001b[0mwarm_start\u001b[0m\u001b[0;34m=\u001b[0m\u001b[0mTrue\u001b[0m\u001b[0;34m)\u001b[0m\u001b[0;34m\u001b[0m\u001b[0m\n\u001b[0;32m----> 3\u001b[0;31m \u001b[0mrfcl\u001b[0m\u001b[0;34m.\u001b[0m\u001b[0mfit\u001b[0m\u001b[0;34m(\u001b[0m\u001b[0mX\u001b[0m\u001b[0;34m=\u001b[0m\u001b[0mcameo_code_dummy\u001b[0m\u001b[0;34m.\u001b[0m\u001b[0mvalues\u001b[0m\u001b[0;34m,\u001b[0m\u001b[0my\u001b[0m\u001b[0;34m=\u001b[0m\u001b[0mBrentIncrease\u001b[0m\u001b[0;34m)\u001b[0m\u001b[0;34m\u001b[0m\u001b[0m\n\u001b[0m",
      "\u001b[0;32m/home/jiacheng/opt/anaconda2/lib/python2.7/site-packages/sklearn/ensemble/forest.pyc\u001b[0m in \u001b[0;36mfit\u001b[0;34m(self, X, y, sample_weight)\u001b[0m\n\u001b[1;32m    210\u001b[0m         \"\"\"\n\u001b[1;32m    211\u001b[0m         \u001b[0;31m# Validate or convert input data\u001b[0m\u001b[0;34m\u001b[0m\u001b[0;34m\u001b[0m\u001b[0m\n\u001b[0;32m--> 212\u001b[0;31m         \u001b[0mX\u001b[0m \u001b[0;34m=\u001b[0m \u001b[0mcheck_array\u001b[0m\u001b[0;34m(\u001b[0m\u001b[0mX\u001b[0m\u001b[0;34m,\u001b[0m \u001b[0mdtype\u001b[0m\u001b[0;34m=\u001b[0m\u001b[0mDTYPE\u001b[0m\u001b[0;34m,\u001b[0m \u001b[0maccept_sparse\u001b[0m\u001b[0;34m=\u001b[0m\u001b[0;34m\"csc\"\u001b[0m\u001b[0;34m)\u001b[0m\u001b[0;34m\u001b[0m\u001b[0m\n\u001b[0m\u001b[1;32m    213\u001b[0m         \u001b[0;32mif\u001b[0m \u001b[0missparse\u001b[0m\u001b[0;34m(\u001b[0m\u001b[0mX\u001b[0m\u001b[0;34m)\u001b[0m\u001b[0;34m:\u001b[0m\u001b[0;34m\u001b[0m\u001b[0m\n\u001b[1;32m    214\u001b[0m             \u001b[0;31m# Pre-sort indices to avoid that each individual tree of the\u001b[0m\u001b[0;34m\u001b[0m\u001b[0;34m\u001b[0m\u001b[0m\n",
      "\u001b[0;32m/home/jiacheng/opt/anaconda2/lib/python2.7/site-packages/sklearn/utils/validation.pyc\u001b[0m in \u001b[0;36mcheck_array\u001b[0;34m(array, accept_sparse, dtype, order, copy, force_all_finite, ensure_2d, allow_nd, ensure_min_samples, ensure_min_features, warn_on_dtype, estimator)\u001b[0m\n\u001b[1;32m    371\u001b[0m                                       force_all_finite)\n\u001b[1;32m    372\u001b[0m     \u001b[0;32melse\u001b[0m\u001b[0;34m:\u001b[0m\u001b[0;34m\u001b[0m\u001b[0m\n\u001b[0;32m--> 373\u001b[0;31m         \u001b[0marray\u001b[0m \u001b[0;34m=\u001b[0m \u001b[0mnp\u001b[0m\u001b[0;34m.\u001b[0m\u001b[0marray\u001b[0m\u001b[0;34m(\u001b[0m\u001b[0marray\u001b[0m\u001b[0;34m,\u001b[0m \u001b[0mdtype\u001b[0m\u001b[0;34m=\u001b[0m\u001b[0mdtype\u001b[0m\u001b[0;34m,\u001b[0m \u001b[0morder\u001b[0m\u001b[0;34m=\u001b[0m\u001b[0morder\u001b[0m\u001b[0;34m,\u001b[0m \u001b[0mcopy\u001b[0m\u001b[0;34m=\u001b[0m\u001b[0mcopy\u001b[0m\u001b[0;34m)\u001b[0m\u001b[0;34m\u001b[0m\u001b[0m\n\u001b[0m\u001b[1;32m    374\u001b[0m \u001b[0;34m\u001b[0m\u001b[0m\n\u001b[1;32m    375\u001b[0m         \u001b[0;32mif\u001b[0m \u001b[0mensure_2d\u001b[0m\u001b[0;34m:\u001b[0m\u001b[0;34m\u001b[0m\u001b[0m\n",
      "\u001b[0;31mMemoryError\u001b[0m: "
     ]
    }
   ],
   "source": [
    "from sklearn.ensemble import RandomForestClassifier\n",
    "rfcl = RandomForestClassifier(n_jobs=8,warm_start=True)\n",
    "rfcl.fit(X=cameo_code_dummy.values,y=BrentIncrease)"
   ]
  },
  {
   "cell_type": "code",
   "execution_count": 31,
   "metadata": {
    "collapsed": false
   },
   "outputs": [],
   "source": [
    "brent_2011 = BrentIncrease[events_df['Date'].str.startswith('2011')]"
   ]
  },
  {
   "cell_type": "code",
   "execution_count": 38,
   "metadata": {
    "collapsed": false
   },
   "outputs": [],
   "source": [
    "random_guess_error = []\n",
    "for i in range(5):\n",
    "    random_guess_error.append(float(np.sum(np.abs(np.random.binomial(1,0.5,brent_2011.shape[0])-brent_2011)))/float(brent_2011.shape[0]))\n",
    "\n",
    "mean_rg = np.mean(random_guess_error)\n",
    "std_rg = np.std(random_guess_error)\n",
    "\n",
    "rf_err = [0.51620996, 0.51647258, 0.51590074 ,0.51591663 ,0.51594681]\n",
    "mean_rf = np.mean(rf_err)\n",
    "std_rf = np.std(rf_err)"
   ]
  },
  {
   "cell_type": "code",
   "execution_count": 45,
   "metadata": {
    "collapsed": false
   },
   "outputs": [
    {
     "data": {
      "image/png": "[encoded data removed]",
      "text/plain": [
       "<matplotlib.figure.Figure at 0x7fa6668750d0>"
      ]
     },
     "metadata": {},
     "output_type": "display_data"
    }
   ],
   "source": [
    "values = np.array([mean_rf,mean_rg])\n",
    "std = np.array([std_rf,std_rg])\n",
    "tick_labels = ['RandomForest','RandomGuess']\n",
    "ylab = 'Accuracy'\n",
    "ind = np.arange(values.size)\n",
    "width = 0.6\n",
    "plt.bar(ind,values,width=width,yerr=std)\n",
    "plt.xticks(ind+width/2,tick_labels, rotation='vertical')\n",
    "plt.ylabel(ylab)\n",
    "plt.ylim(ymin=0.45)\n",
    "plt.ylim(ymax=0.55)\n",
    "plt.show()"
   ]
  }
 ],
 "metadata": {
  "anaconda-cloud": {},
  "kernelspec": {
   "display_name": "Python [default]",
   "language": "python",
   "name": "python2"
  },
  "language_info": {
   "codemirror_mode": {
    "name": "ipython",
    "version": 2
   },
   "file_extension": ".py",
   "mimetype": "text/x-python",
   "name": "python",
   "nbconvert_exporter": "python",
   "pygments_lexer": "ipython2",
   "version": "2.7.12"
  }
 },
 "nbformat": 4,
 "nbformat_minor": 1
}
