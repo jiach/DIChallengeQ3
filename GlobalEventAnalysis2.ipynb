{
 "cells": [
  {
   "cell_type": "code",
   "execution_count": 2,
   "metadata": {
    "collapsed": true
   },
   "outputs": [],
   "source": [
    "import numpy as np\n",
    "import pandas as pd\n",
    "import scipy as sp"
   ]
  },
  {
   "cell_type": "code",
   "execution_count": 11,
   "metadata": {
    "collapsed": false
   },
   "outputs": [
    {
     "data": {
      "text/plain": [
       "(30654978,)"
      ]
     },
     "execution_count": 11,
     "metadata": {},
     "output_type": "execute_result"
    }
   ],
   "source": [
    "#brent_increase = pd.read_csv('brent_increase.csv.gz',header=None,dtype=np.int8)\n",
    "brent_increase[1].shape"
   ]
  },
  {
   "cell_type": "code",
   "execution_count": null,
   "metadata": {
    "collapsed": false
   },
   "outputs": [],
   "source": [
    "#cameo_dummies = pd.read_csv('cameo_code_dummy.csv.gz',header=0,dtype=np.int8)\n",
    "cameo_dummies = pd.read_csv('cameo_code_dummy.csv.gz',header=0,dtype={'---':np.int8,'010':np.int8,'011':np.int8,'012':np.int8,'013':np.int8,'014':np.int8,'015':np.int8,'016':np.int8,'017':np.int8,'018':np.int8,'019':np.int8,'020':np.int8,'021':np.int8,'0211':np.int8,'0212':np.int8,'0213':np.int8,'0214':np.int8,'022':np.int8,'023':np.int8,'0231':np.int8,'0232':np.int8,'0233':np.int8,'0234':np.int8,'024':np.int8,'0241':np.int8,'0242':np.int8,'0243':np.int8,'0244':np.int8,'025':np.int8,'0251':np.int8,'0252':np.int8,'0253':np.int8,'0254':np.int8,'0255':np.int8,'0256':np.int8,'026':np.int8,'027':np.int8,'028':np.int8,'030':np.int8,'031':np.int8,'0311':np.int8,'0312':np.int8,'0313':np.int8,'0314':np.int8,'032':np.int8,'033':np.int8,'0331':np.int8,'0332':np.int8,'0333':np.int8,'0334':np.int8,'034':np.int8,'0341':np.int8,'0342':np.int8,'0343':np.int8,'0344':np.int8,'035':np.int8,'0351':np.int8,'0353':np.int8,'0355':np.int8,'0356':np.int8,'036':np.int8,'037':np.int8,'038':np.int8,'039':np.int8,'040':np.int8,'041':np.int8,'042':np.int8,'043':np.int8,'044':np.int8,'045':np.int8,'046':np.int8,'050':np.int8,'051':np.int8,'052':np.int8,'053':np.int8,'054':np.int8,'055':np.int8,'056':np.int8,'057':np.int8,'060':np.int8,'061':np.int8,'062':np.int8,'063':np.int8,'064':np.int8,'070':np.int8,'071':np.int8,'072':np.int8,'073':np.int8,'074':np.int8,'075':np.int8,'080':np.int8,'081':np.int8,'0811':np.int8,'0812':np.int8,'0813':np.int8,'0814':np.int8,'082':np.int8,'083':np.int8,'0831':np.int8,'0832':np.int8,'0833':np.int8,'0834':np.int8,'084':np.int8,'0841':np.int8,'0842':np.int8,'085':np.int8,'086':np.int8,'0861':np.int8,'0862':np.int8,'0863':np.int8,'087':np.int8,'0871':np.int8,'0872':np.int8,'0873':np.int8,'0874':np.int8,'090':np.int8,'091':np.int8,'092':np.int8,'093':np.int8,'094':np.int8,'100':np.int8,'101':np.int8,'1012':np.int8,'1013':np.int8,'1014':np.int8,'102':np.int8,'1031':np.int8,'1033':np.int8,'1034':np.int8,'104':np.int8,'1041':np.int8,'1042':np.int8,'1043':np.int8,'1044':np.int8,'105':np.int8,'1051':np.int8,'1053':np.int8,'1054':np.int8,'1056':np.int8,'106':np.int8,'107':np.int8,'110':np.int8,'111':np.int8,'112':np.int8,'1121':np.int8,'1122':np.int8,'1123':np.int8,'1124':np.int8,'1125':np.int8,'113':np.int8,'114':np.int8,'115':np.int8,'116':np.int8,'120':np.int8,'121':np.int8,'1211':np.int8,'1212':np.int8,'1213':np.int8,'122':np.int8,'1222':np.int8,'1223':np.int8,'1224':np.int8,'123':np.int8,'1231':np.int8,'1232':np.int8,'1233':np.int8,'1234':np.int8,'124':np.int8,'1241':np.int8,'1242':np.int8,'1243':np.int8,'1244':np.int8,'1245':np.int8,'1246':np.int8,'125':np.int8,'126':np.int8,'127':np.int8,'128':np.int8,'129':np.int8,'130':np.int8,'131':np.int8,'1311':np.int8,'1312':np.int8,'1313':np.int8,'132':np.int8,'1322':np.int8,'133':np.int8,'134':np.int8,'135':np.int8,'136':np.int8,'137':np.int8,'138':np.int8,'1382':np.int8,'1383':np.int8,'1384':np.int8,'1385':np.int8,'139':np.int8,'140':np.int8,'141':np.int8,'1411':np.int8,'1412':np.int8,'1413':np.int8,'1414':np.int8,'142':np.int8,'143':np.int8,'1431':np.int8,'144':np.int8,'145':np.int8,'150':np.int8,'151':np.int8,'152':np.int8,'153':np.int8,'154':np.int8,'160':np.int8,'161':np.int8,'162':np.int8,'1621':np.int8,'1622':np.int8,'1623':np.int8,'163':np.int8,'164':np.int8,'165':np.int8,'166':np.int8,'1661':np.int8,'1662':np.int8,'170':np.int8,'171':np.int8,'1711':np.int8,'1712':np.int8,'172':np.int8,'1721':np.int8,'1722':np.int8,'1723':np.int8,'1724':np.int8,'173':np.int8,'174':np.int8,'175':np.int8,'180':np.int8,'181':np.int8,'182':np.int8,'1821':np.int8,'1822':np.int8,'1823':np.int8,'183':np.int8,'1831':np.int8,'1832':np.int8,'1833':np.int8,'184':np.int8,'185':np.int8,'186':np.int8,'190':np.int8,'191':np.int8,'192':np.int8,'193':np.int8,'194':np.int8,'195':np.int8,'196':np.int8,'201':np.int8,'202':np.int8,'203'})"
   ]
  },
  {
   "cell_type": "code",
   "execution_count": null,
   "metadata": {
    "collapsed": true
   },
   "outputs": [],
   "source": []
  }
 ],
 "metadata": {
  "anaconda-cloud": {},
  "kernelspec": {
   "display_name": "Python [default]",
   "language": "python",
   "name": "python2"
  },
  "language_info": {
   "codemirror_mode": {
    "name": "ipython",
    "version": 2
   },
   "file_extension": ".py",
   "mimetype": "text/x-python",
   "name": "python",
   "nbconvert_exporter": "python",
   "pygments_lexer": "ipython2",
   "version": "2.7.12"
  }
 },
 "nbformat": 4,
 "nbformat_minor": 1
}
